{
 "cells": [
  {
   "cell_type": "markdown",
   "id": "6564d21c",
   "metadata": {},
   "source": [
    "#  Mat Renderer Demonstration"
   ]
  },
  {
   "cell_type": "markdown",
   "id": "6e80b09e",
   "metadata": {},
   "source": [
    "### Settings"
   ]
  },
  {
   "cell_type": "code",
   "execution_count": null,
   "id": "68476f2c",
   "metadata": {},
   "outputs": [],
   "source": [
    "# Path stores material svBRDF maps\n",
    "maps_path = \"assets/rusty_metal\"\n",
    "# Light configurations\n",
    "light_position = (0.0, 0.0, 10.0)\n",
    "light_color = (23.47, 21.31, 20.79)\n",
    "light_power = 10.0"
   ]
  },
  {
   "cell_type": "markdown",
   "id": "d3ddd5d7",
   "metadata": {},
   "source": [
    "### Load material"
   ]
  },
  {
   "cell_type": "code",
   "execution_count": null,
   "id": "13866bf1",
   "metadata": {},
   "outputs": [],
   "source": [
    "from matrenderer.io import load_svbrdf_maps, show_maps, show_rendered\n",
    "import matplotlib.pyplot as plt\n",
    "from matrenderer.render import Renderer, Light\n",
    "from matrenderer.helpers import create_single_batch_maps, create_rendered_maps\n",
    "import pathlib\n",
    "\n",
    "maps = load_svbrdf_maps(pathlib.Path(maps_path).absolute())\n",
    "show_maps(maps)"
   ]
  },
  {
   "cell_type": "markdown",
   "id": "c0d78f50",
   "metadata": {},
   "source": [
    "### Rendering"
   ]
  },
  {
   "cell_type": "code",
   "execution_count": null,
   "id": "97a9dc43",
   "metadata": {},
   "outputs": [],
   "source": [
    "lights = [Light(light_position, light_color, light_power)]\n",
    "r = Renderer(lights=lights, gamma=1.0)\n",
    "batched_maps = create_single_batch_maps(maps)\n",
    "color, ambient, light, diffuse, specular = r.render(batched_maps)\n",
    "\n",
    "rendered_maps = create_rendered_maps(color[0], ambient[0], light[0]/light[0].max(), diffuse[0], specular[0])\n",
    "show_maps(rendered_maps)"
   ]
  },
  {
   "cell_type": "code",
   "execution_count": null,
   "id": "2745efa1",
   "metadata": {},
   "outputs": [],
   "source": [
    "# Larger rendered result\n",
    "show_rendered(color[0])"
   ]
  },
  {
   "cell_type": "markdown",
   "id": "4cc604ee",
   "metadata": {},
   "source": [
    "### Compute gradients"
   ]
  },
  {
   "cell_type": "code",
   "execution_count": null,
   "id": "3aea7fb8",
   "metadata": {},
   "outputs": [],
   "source": [
    "import torch\n",
    "maps[\"basecolor\"].requires_grad = True\n",
    "batched_maps = create_single_batch_maps(maps)\n",
    "color, ambient, radiance, diffuse, specular = r.render(batched_maps)\n",
    "# dummy loss function\n",
    "test_loss = torch.sum(color)\n",
    "test_loss.backward()\n",
    "print(maps[\"basecolor\"].grad)"
   ]
  },
  {
   "cell_type": "markdown",
   "id": "0d26b608",
   "metadata": {},
   "source": [
    "### Optimize random svBRDF maps towards rendered image"
   ]
  },
  {
   "cell_type": "code",
   "execution_count": null,
   "id": "4018fdda",
   "metadata": {},
   "outputs": [],
   "source": [
    "n_iter = 1000\n",
    "show_interval = 200\n",
    "learning_rate = 0.01\n",
    "\n",
    "from matrenderer.helpers import create_learnable_maps, sigmoid_maps\n",
    "height, width = maps[\"basecolor\"].shape[1], maps[\"basecolor\"].shape[2]\n",
    "learning_maps = create_learnable_maps(height, width)\n",
    "# basic intializations\n",
    "learning_maps[\"normal\"] = torch.ones((3, height, width), requires_grad=False)\n",
    "learning_maps[\"normal\"][0:2, :, :] = 0.5\n",
    "learning_maps[\"normal\"].requires_grad = True\n",
    "learning_maps[\"metallic\"] = torch.zeros((1, height, width), requires_grad=True)\n",
    "learning_maps[\"ao\"] = torch.ones((1, height, width), requires_grad=True)"
   ]
  },
  {
   "cell_type": "code",
   "execution_count": null,
   "id": "871842f4",
   "metadata": {},
   "outputs": [],
   "source": [
    "from tqdm import tqdm\n",
    "l2_loss = torch.nn.MSELoss()\n",
    "target = color.detach()\n",
    "pbar = tqdm(range(1, n_iter+1))\n",
    "\n",
    "optimizer = torch.optim.Adam(learning_maps.values(), lr=learning_rate)\n",
    "for i_iter in pbar:\n",
    "    batched_data = create_single_batch_maps(sigmoid_maps(learning_maps))\n",
    "    rendered, _, _, _, _ = r.render(batched_data)\n",
    "    loss = l2_loss(rendered, target)\n",
    "    loss.backward()\n",
    "    optimizer.step()\n",
    "    for param in learning_maps.values():\n",
    "        if param.grad is not None:\n",
    "            param.grad.data.zero_()\n",
    "    pbar.set_description(\"loss: {:.5f}\".format(loss.item()))\n",
    "    \n",
    "    if i_iter % show_interval == 0:\n",
    "        show_maps(learning_maps)\n",
    "        show_rendered(rendered[0], title=\"iter: #{}\".format(i_iter))\n",
    "        "
   ]
  },
  {
   "cell_type": "code",
   "execution_count": null,
   "id": "cee2a95a",
   "metadata": {},
   "outputs": [],
   "source": []
  }
 ],
 "metadata": {
  "kernelspec": {
   "display_name": "Python 3 (ipykernel)",
   "language": "python",
   "name": "python3"
  },
  "language_info": {
   "codemirror_mode": {
    "name": "ipython",
    "version": 3
   },
   "file_extension": ".py",
   "mimetype": "text/x-python",
   "name": "python",
   "nbconvert_exporter": "python",
   "pygments_lexer": "ipython3",
   "version": "3.11.5"
  }
 },
 "nbformat": 4,
 "nbformat_minor": 5
}
