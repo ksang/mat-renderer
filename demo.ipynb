{
 "cells": [
  {
   "cell_type": "markdown",
   "id": "6564d21c",
   "metadata": {},
   "source": [
    "# Demonstration of Mat Renderer"
   ]
  },
  {
   "cell_type": "code",
   "execution_count": null,
   "id": "68476f2c",
   "metadata": {},
   "outputs": [],
   "source": [
    "# Path stores material svBRDF maps\n",
    "maps_path = \"assets/rusty_metal\"\n",
    "# Light configurations\n",
    "light_position = (0.0, 0.0, 10.0)\n",
    "light_color = (23.47, 21.31, 20.79)\n",
    "light_power = 10.0"
   ]
  },
  {
   "cell_type": "code",
   "execution_count": null,
   "id": "13866bf1",
   "metadata": {},
   "outputs": [],
   "source": [
    "from matrenderer.io import load_svbrdf_maps, show_maps\n",
    "import matplotlib.pyplot as plt\n",
    "from matrenderer.render import Renderer, Light\n",
    "from matrenderer.helpers import create_single_batch_maps, create_rendered_maps\n",
    "import pathlib\n",
    "\n",
    "maps = load_svbrdf_maps(pathlib.Path(maps_path).absolute())\n",
    "show_maps(maps)"
   ]
  },
  {
   "cell_type": "code",
   "execution_count": null,
   "id": "97a9dc43",
   "metadata": {},
   "outputs": [],
   "source": [
    "# Rendering\n",
    "\n",
    "lights = [Light(light_position, light_color, light_power)]\n",
    "r = Renderer(lights=lights, gamma=1.0)\n",
    "batched_maps = create_single_batch_maps(maps)\n",
    "color, ambient, radiance, diffuse, specular = r.render(batched_maps)\n",
    "\n",
    "rendered_maps = create_rendered_maps(color[0], ambient[0], radiance[0]/radiance[0].max(), diffuse[0], specular[0])\n",
    "show_maps(rendered_maps)"
   ]
  },
  {
   "cell_type": "code",
   "execution_count": null,
   "id": "2745efa1",
   "metadata": {},
   "outputs": [],
   "source": [
    "# Larger rendered result\n",
    "import matplotlib.pyplot as plt\n",
    "plt.figure(figsize=(8, 8))\n",
    "plt.imshow((color[0].permute(1,2,0)).cpu().numpy())"
   ]
  },
  {
   "cell_type": "code",
   "execution_count": null,
   "id": "72614686",
   "metadata": {},
   "outputs": [],
   "source": []
  }
 ],
 "metadata": {
  "kernelspec": {
   "display_name": "Python 3 (ipykernel)",
   "language": "python",
   "name": "python3"
  },
  "language_info": {
   "codemirror_mode": {
    "name": "ipython",
    "version": 3
   },
   "file_extension": ".py",
   "mimetype": "text/x-python",
   "name": "python",
   "nbconvert_exporter": "python",
   "pygments_lexer": "ipython3",
   "version": "3.11.5"
  }
 },
 "nbformat": 4,
 "nbformat_minor": 5
}
